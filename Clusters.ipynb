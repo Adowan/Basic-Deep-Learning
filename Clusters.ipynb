{
  "nbformat": 4,
  "nbformat_minor": 0,
  "metadata": {
    "colab": {
      "provenance": []
    },
    "kernelspec": {
      "name": "python3",
      "display_name": "Python 3"
    },
    "language_info": {
      "name": "python"
    }
  },
  "cells": [
    {
      "cell_type": "code",
      "execution_count": null,
      "metadata": {
        "colab": {
          "base_uri": "https://localhost:8080/"
        },
        "id": "uSPq-JJFbUde",
        "outputId": "4d9f9586-12c4-4973-93f8-416944a841d2"
      },
      "outputs": [
        {
          "output_type": "stream",
          "name": "stdout",
          "text": [
            "Mounted at gdrive\n"
          ]
        }
      ],
      "source": [
        "import tensorflow as tf\n",
        "from tensorflow import keras\n",
        "import numpy as np\n",
        "import pandas as pd\n",
        "from google.colab import drive\n",
        "drive.mount('gdrive')\n"
      ]
    },
    {
      "cell_type": "code",
      "source": [
        "train_df= pd.read_csv(\"gdrive/MyDrive/Colab Notebooks/neural-nets-master/examples/clusters/data/train.csv\")\n",
        "np.random.shuffle(train_df.values)\n",
        "print(train_df.head(5))\n",
        "#to get all the different colors that we have\n",
        "print(train_df.color.unique())\n",
        "#Dictionary mapping of strings to an integer number\n",
        "color_dict={'red': 0,'blue': 1,'green':2,'teal':3,'orange': 4,'purple': 5}\n",
        "#applying on dataframe\n",
        "train_df['color']=train_df.color.apply(lambda x:color_dict[x])\n",
        "#To round up the output value to its nearest integer\n",
        "print(train_df.color.unique())\n",
        "#Define layers> first-hidden layers (with input dimension or layers),output layers\n",
        "model= keras.Sequential([\n",
        "    keras.layers.Dense(32, input_shape=(2,), activation='relu'),\n",
        "    keras.layers.Dense(32, activation='relu'),\n",
        "    keras.layers.Dense(6,activation='sigmoid')])\n",
        "\n",
        "model.compile(optimizer='adam',\n",
        "              loss=keras.losses.SparseCategoricalCrossentropy(from_logits= True),\n",
        "              metrics=['accuracy'])\n",
        "\n",
        "x=np.column_stack((train_df.x.values, train_df.y.values))\n",
        "model.fit(x,train_df.color.values, batch_size=1, epochs=10)\n",
        "\n",
        "\n",
        "test_df=pd.read_csv(\"gdrive/MyDrive/Colab Notebooks/neural-nets-master/examples/clusters/data/test.csv\")\n",
        "test_x= np.column_stack((test_df.x.values, test_df.y.values))\n",
        "print(\"Evaluation follows here:\")\n",
        "test_df['color']=test_df.color.apply(lambda x:color_dict[x])\n",
        "model.evaluate(test_x, test_df.color.values)\n",
        "\n",
        "print(\"Prediction :\", np.round(model.predict(np.array([[-1,3.8]]))))\n",
        "\n",
        "\n"
      ],
      "metadata": {
        "id": "aY-zdWU7bh3R"
      },
      "execution_count": null,
      "outputs": []
    },
    {
      "cell_type": "code",
      "source": [
        "print(\"Prediction :\", np.round(model.predict(np.array([[-1.5,3]]))))"
      ],
      "metadata": {
        "colab": {
          "base_uri": "https://localhost:8080/"
        },
        "id": "LafSRrB44KBm",
        "outputId": "57253d0a-ca07-4f76-86d7-0c85e2215564"
      },
      "execution_count": null,
      "outputs": [
        {
          "output_type": "stream",
          "name": "stdout",
          "text": [
            "Prediction : [[0. 0. 0. 0. 1. 0.]]\n"
          ]
        }
      ]
    }
  ]
}