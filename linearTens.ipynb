{
  "nbformat": 4,
  "nbformat_minor": 0,
  "metadata": {
    "colab": {
      "provenance": []
    },
    "kernelspec": {
      "name": "python3",
      "display_name": "Python 3"
    },
    "language_info": {
      "name": "python"
    }
  },
  "cells": [
    {
      "cell_type": "code",
      "execution_count": null,
      "metadata": {
        "id": "EouCbaNoOyei"
      },
      "outputs": [],
      "source": [
        "import tensorflow as tf\n",
        "from tensorflow import keras\n",
        "import numpy as np\n",
        "import pandas as pd"
      ]
    },
    {
      "cell_type": "code",
      "source": [
        "from google.colab import drive\n",
        "drive.mount('gdrive')"
      ],
      "metadata": {
        "colab": {
          "base_uri": "https://localhost:8080/"
        },
        "id": "p8BqdExLPAka",
        "outputId": "26b400ea-13cf-4b67-9ae1-397323de4ed1"
      },
      "execution_count": null,
      "outputs": [
        {
          "output_type": "stream",
          "name": "stdout",
          "text": [
            "Mounted at gdrive\n"
          ]
        }
      ]
    },
    {
      "cell_type": "code",
      "source": [
        "train_df= pd.read_csv(\"gdrive/MyDrive/Colab Notebooks/linear/data/train.csv\")\n",
        "np.random.shuffle(train_df.values)\n",
        "print(train_df.head(5))\n",
        "\n",
        "model= keras.Sequential([\n",
        "    keras.layers.Dense(24, input_shape=(2,), activation='relu'),\n",
        "    keras.layers.Dense(2,activation='sigmoid')])\n",
        "model.compile(optimizer='adam',\n",
        "              loss=keras.losses.SparseCategoricalCrossentropy(from_logits= True),\n",
        "              metrics=['accuracy'])\n",
        "x=np.column_stack((train_df.x.values, train_df.y.values))\n",
        "model.fit(x,train_df.color.values, batch_size=2, epochs=5)\n",
        "\n",
        "\n",
        "test_df=pd.read_csv(\"gdrive/MyDrive/Colab Notebooks/linear/data/test.csv\")\n",
        "test_x= np.column_stack((test_df.x.values, test_df.y.values))\n",
        "print(\"Evaluation follows here:\")\n",
        "model.evaluate(test_x, test_df.color.values)"
      ],
      "metadata": {
        "colab": {
          "base_uri": "https://localhost:8080/"
        },
        "id": "PQh9EYLOPN45",
        "outputId": "a7e49401-e4f9-490e-9e91-751df603378a"
      },
      "execution_count": null,
      "outputs": [
        {
          "output_type": "stream",
          "name": "stdout",
          "text": [
            "          x         y  color\n",
            "0  3.720622  2.417236    1.0\n",
            "1  4.033423  3.349381    1.0\n",
            "2  0.386651  1.249631    0.0\n",
            "3  3.139080  1.716587    1.0\n",
            "4  4.367974  3.125804    1.0\n",
            "Epoch 1/5\n"
          ]
        },
        {
          "output_type": "stream",
          "name": "stderr",
          "text": [
            "/usr/local/lib/python3.7/dist-packages/tensorflow/python/util/dispatch.py:1082: UserWarning: \"`sparse_categorical_crossentropy` received `from_logits=True`, but the `output` argument was produced by a sigmoid or softmax activation and thus does not represent logits. Was this intended?\"\n",
            "  return dispatch_target(*args, **kwargs)\n"
          ]
        },
        {
          "output_type": "stream",
          "name": "stdout",
          "text": [
            "2000/2000 [==============================] - 6s 3ms/step - loss: 0.1379 - accuracy: 0.9765\n",
            "Epoch 2/5\n",
            "2000/2000 [==============================] - 7s 3ms/step - loss: 0.0067 - accuracy: 1.0000\n",
            "Epoch 3/5\n",
            "2000/2000 [==============================] - 3s 2ms/step - loss: 0.0024 - accuracy: 1.0000\n",
            "Epoch 4/5\n",
            "2000/2000 [==============================] - 3s 2ms/step - loss: 0.0011 - accuracy: 1.0000\n",
            "Epoch 5/5\n",
            "2000/2000 [==============================] - 3s 2ms/step - loss: 9.1876e-04 - accuracy: 1.0000\n",
            "Evaluation follows here:\n",
            "32/32 [==============================] - 0s 1ms/step - loss: 6.3482e-04 - accuracy: 1.0000\n"
          ]
        },
        {
          "output_type": "execute_result",
          "data": {
            "text/plain": [
              "[0.0006348188617266715, 1.0]"
            ]
          },
          "metadata": {},
          "execution_count": 3
        }
      ]
    },
    {
      "cell_type": "code",
      "source": [],
      "metadata": {
        "id": "4ohOYAqZPjxO"
      },
      "execution_count": null,
      "outputs": []
    },
    {
      "cell_type": "code",
      "source": [],
      "metadata": {
        "id": "tTGwHzIIQeC5"
      },
      "execution_count": null,
      "outputs": []
    }
  ]
}